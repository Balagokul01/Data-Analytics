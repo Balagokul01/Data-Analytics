{
  "nbformat": 4,
  "nbformat_minor": 0,
  "metadata": {
    "colab": {
      "provenance": [],
      "authorship_tag": "ABX9TyPN+sYBi+fDy2SIFFr5dTsv",
      "include_colab_link": true
    },
    "kernelspec": {
      "name": "python3",
      "display_name": "Python 3"
    },
    "language_info": {
      "name": "python"
    }
  },
  "cells": [
    {
      "cell_type": "markdown",
      "metadata": {
        "id": "view-in-github",
        "colab_type": "text"
      },
      "source": [
        "<a href=\"https://colab.research.google.com/github/Balagokul01/Data-Analytics/blob/main/Iris%20pattern%20recognition%20(using%20pandas%20and%20sklearn)/Iris_pattern_recognition_(using_pandas_and_sklearn).ipynb\" target=\"_parent\"><img src=\"https://colab.research.google.com/assets/colab-badge.svg\" alt=\"Open In Colab\"/></a>"
      ]
    },
    {
      "cell_type": "code",
      "execution_count": 1,
      "metadata": {
        "colab": {
          "base_uri": "https://localhost:8080/"
        },
        "id": "9rDiW3VRTtq_",
        "outputId": "ecdfdd70-0ea4-47a0-ebff-70611382c742"
      },
      "outputs": [
        {
          "output_type": "stream",
          "name": "stdout",
          "text": [
            "Cloning into 'Data-Analytics'...\n",
            "remote: Enumerating objects: 50, done.\u001b[K\n",
            "remote: Counting objects: 100% (50/50), done.\u001b[K\n",
            "remote: Compressing objects: 100% (44/44), done.\u001b[K\n",
            "remote: Total 50 (delta 3), reused 0 (delta 0), pack-reused 0\u001b[K\n",
            "Receiving objects: 100% (50/50), 28.25 KiB | 3.14 MiB/s, done.\n",
            "Resolving deltas: 100% (3/3), done.\n"
          ]
        }
      ],
      "source": [
        "!git clone https://github.com/Balagokul01/Data-Analytics/"
      ]
    },
    {
      "cell_type": "code",
      "source": [
        "\n",
        "\n",
        "# required libraries\n",
        "import pandas as pd\n",
        "from sklearn.linear_model import LogisticRegression\n",
        "from sklearn.model_selection import train_test_split\n",
        "from sklearn.preprocessing import LabelEncoder\n",
        "from sklearn.metrics import accuracy_score\n",
        "\n",
        "\n",
        "# read the dataset\n",
        "data = pd.read_csv('/content/Data-Analytics/Iris pattern recognition (using pandas and sklearn)/data.csv')\n",
        "print(data.head())\n",
        "\n",
        "print('\\n\\nColumn Names\\n\\n')\n",
        "print(data.columns)\n",
        "\n",
        "#label encode the target variable\n",
        "encode = LabelEncoder()\n",
        "data.Species = encode.fit_transform(data.Species)\n",
        "\n",
        "print(data.head())\n",
        "\n",
        "# train-test-split\n",
        "train , test = train_test_split(data,test_size=0.3,random_state=0)\n",
        "# if you change test size =0.2 you will get accuracy 1\n",
        "print('shape of training data : ',train.shape)\n",
        "print('shape of testing data',test.shape)\n",
        "\n",
        "# seperate the target and independent variable\n",
        "train_x = train.drop(columns=['Species'],axis=1)\n",
        "train_y = train['Species']\n",
        "\n",
        "test_x = test.drop(columns=['Species'],axis=1)\n",
        "test_y = test['Species']\n",
        "\n",
        "# create the object of the model\n",
        "model = LogisticRegression()\n",
        "\n",
        "model.fit(train_x,train_y)\n",
        "\n",
        "predict = model.predict(test_x)\n",
        "\n",
        "print('Predicted Values on Test Data',encode.inverse_transform(predict))\n",
        "\n",
        "print('\\n\\nAccuracy Score on test data : \\n\\n')\n",
        "print(accuracy_score(test_y,predict))"
      ],
      "metadata": {
        "colab": {
          "base_uri": "https://localhost:8080/"
        },
        "id": "U8NPiQ0BUBQM",
        "outputId": "0778363d-2afb-44bf-d94a-6d3c0b780638"
      },
      "execution_count": 3,
      "outputs": [
        {
          "output_type": "stream",
          "name": "stdout",
          "text": [
            "   SepalLengthCm  SepalWidthCm  PetalLengthCm  PetalWidthCm      Species\n",
            "0            5.1           3.5            1.4           0.2  Iris-setosa\n",
            "1            4.9           3.0            1.4           0.2  Iris-setosa\n",
            "2            4.7           3.2            1.3           0.2  Iris-setosa\n",
            "3            4.6           3.1            1.5           0.2  Iris-setosa\n",
            "4            5.0           3.6            1.4           0.2  Iris-setosa\n",
            "\n",
            "\n",
            "Column Names\n",
            "\n",
            "\n",
            "Index(['SepalLengthCm', 'SepalWidthCm', 'PetalLengthCm', 'PetalWidthCm',\n",
            "       'Species'],\n",
            "      dtype='object')\n",
            "   SepalLengthCm  SepalWidthCm  PetalLengthCm  PetalWidthCm  Species\n",
            "0            5.1           3.5            1.4           0.2        0\n",
            "1            4.9           3.0            1.4           0.2        0\n",
            "2            4.7           3.2            1.3           0.2        0\n",
            "3            4.6           3.1            1.5           0.2        0\n",
            "4            5.0           3.6            1.4           0.2        0\n",
            "shape of training data :  (105, 5)\n",
            "shape of testing data (45, 5)\n",
            "Predicted Values on Test Data ['Iris-virginica' 'Iris-versicolor' 'Iris-setosa' 'Iris-virginica'\n",
            " 'Iris-setosa' 'Iris-virginica' 'Iris-setosa' 'Iris-versicolor'\n",
            " 'Iris-versicolor' 'Iris-versicolor' 'Iris-virginica' 'Iris-versicolor'\n",
            " 'Iris-versicolor' 'Iris-versicolor' 'Iris-versicolor' 'Iris-setosa'\n",
            " 'Iris-versicolor' 'Iris-versicolor' 'Iris-setosa' 'Iris-setosa'\n",
            " 'Iris-virginica' 'Iris-versicolor' 'Iris-setosa' 'Iris-setosa'\n",
            " 'Iris-virginica' 'Iris-setosa' 'Iris-setosa' 'Iris-versicolor'\n",
            " 'Iris-versicolor' 'Iris-setosa' 'Iris-virginica' 'Iris-versicolor'\n",
            " 'Iris-setosa' 'Iris-virginica' 'Iris-virginica' 'Iris-versicolor'\n",
            " 'Iris-setosa' 'Iris-virginica' 'Iris-versicolor' 'Iris-versicolor'\n",
            " 'Iris-virginica' 'Iris-setosa' 'Iris-virginica' 'Iris-setosa'\n",
            " 'Iris-setosa']\n",
            "\n",
            "\n",
            "Accuracy Score on test data : \n",
            "\n",
            "\n",
            "0.9777777777777777\n"
          ]
        }
      ]
    }
  ]
}